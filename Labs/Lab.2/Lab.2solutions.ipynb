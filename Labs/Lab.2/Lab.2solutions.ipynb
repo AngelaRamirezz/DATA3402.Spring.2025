{
 "cells": [
  {
   "cell_type": "markdown",
   "metadata": {},
   "source": [
    "## Lab 2- Tic Tac Toe\n",
    "\n",
    "In this lab your will build a n x n Tic Tac Toe game. As you do the exercises, make sure your solutions work for any size Tic Tac Toe game. "
   ]
  },
  {
   "cell_type": "markdown",
   "metadata": {},
   "source": [
    "*Exercise 1:* Write a function that creates an n by n matrix (of list of lists) which will represent the state of a Tie Tac Toe game. Let 0, 1, and 2 represent empty, \"X\", and \"O\", respectively.\n"
   ]
  },
  {
   "cell_type": "code",
   "execution_count": 31,
   "metadata": {},
   "outputs": [
    {
     "name": "stdout",
     "output_type": "stream",
     "text": [
      "second try\n"
     ]
    }
   ],
   "source": [
    "print(\"second try\")"
   ]
  },
  {
   "cell_type": "code",
   "execution_count": 2,
   "metadata": {},
   "outputs": [
    {
     "name": "stdout",
     "output_type": "stream",
     "text": [
      "Angela\n"
     ]
    }
   ],
   "source": [
    "print(\"Angela\")"
   ]
  },
  {
   "cell_type": "code",
   "execution_count": 3,
   "metadata": {},
   "outputs": [],
   "source": [
    "size=3\n",
    "empty=0\n",
    "player_1=1\n",
    "player_2=2\n",
    "\n",
    "def create_board():\n",
    "  board=list()\n",
    "  for i in range(size):\n",
    "    row=list()\n",
    "    for j in range(size):\n",
    "        row.append(empty)\n",
    "    board.append(row)\n",
    "  return board"
   ]
  },
  {
   "cell_type": "code",
   "execution_count": 4,
   "metadata": {},
   "outputs": [
    {
     "data": {
      "text/plain": [
       "[[0, 0, 0], [0, 0, 0], [0, 0, 0]]"
      ]
     },
     "execution_count": 4,
     "metadata": {},
     "output_type": "execute_result"
    }
   ],
   "source": [
    "create_board()"
   ]
  },
  {
   "cell_type": "markdown",
   "metadata": {},
   "source": [
    "*Exercise 2:* Write a function that takes 2 integers `n` and `m` as input and draws a `n` by `m` game board. For example the following is a 3x3 board:\n",
    "```\n",
    "   --- --- --- \n",
    "  |   |   |   | \n",
    "   --- --- ---  \n",
    "  |   |   |   | \n",
    "   --- --- ---  \n",
    "  |   |   |   | \n",
    "   --- --- --- \n",
    "   ```"
   ]
  },
  {
   "cell_type": "code",
   "execution_count": 5,
   "metadata": {},
   "outputs": [],
   "source": [
    "def draw_board(n,m):\n",
    "    for i in range(n):\n",
    "        print(\" ---\"*m)\n",
    "        print(\"|   \"*(m+1))\n",
    "    print(\" ---\"*m)"
   ]
  },
  {
   "cell_type": "code",
   "execution_count": 6,
   "metadata": {},
   "outputs": [
    {
     "name": "stdout",
     "output_type": "stream",
     "text": [
      " --- --- ---\n",
      "|   |   |   |   \n",
      " --- --- ---\n",
      "|   |   |   |   \n",
      " --- --- ---\n",
      "|   |   |   |   \n",
      " --- --- ---\n"
     ]
    }
   ],
   "source": [
    "draw_board(3,3)"
   ]
  },
  {
   "cell_type": "markdown",
   "metadata": {},
   "source": [
    "*Exercise 3:* Modify exercise 2, so that it takes a matrix of the form from exercise 1 and draws a tic-tac-tie board with \"X\"s and \"O\"s.  "
   ]
  },
  {
   "cell_type": "code",
   "execution_count": 7,
   "metadata": {},
   "outputs": [],
   "source": [
    "board=create_board()\n",
    "\n",
    "def print_board(board):\n",
    "    for x in range(size):\n",
    "        print(\" ---\"*size)\n",
    "        for y in range(size):\n",
    "          print(\"|\", board[x][y],end=\" \")\n",
    "        print(\"|\")\n",
    "    print(\" ---\"*size)   "
   ]
  },
  {
   "cell_type": "code",
   "execution_count": 8,
   "metadata": {},
   "outputs": [
    {
     "name": "stdout",
     "output_type": "stream",
     "text": [
      " --- --- ---\n",
      "| 0 | 0 | 0 |\n",
      " --- --- ---\n",
      "| 0 | 0 | 0 |\n",
      " --- --- ---\n",
      "| 0 | 0 | 0 |\n",
      " --- --- ---\n"
     ]
    }
   ],
   "source": [
    "print_board(board)"
   ]
  },
  {
   "cell_type": "markdown",
   "metadata": {},
   "source": [
    "*Exercise 4:* Write a function that takes a `n` by `n` matrix representing a tic-tac-toe game, and returns -1, 0, 1, or 2 indicating the game is incomplete, the game is a draw, player 1 has won, or player 2 has one, respectively. Here are some example inputs you can use to test your code:"
   ]
  },
  {
   "cell_type": "code",
   "execution_count": 9,
   "metadata": {},
   "outputs": [],
   "source": [
    "def transpose(M):\n",
    "  n_rows=len(M)\n",
    "  n_cols=len(M[0])\n",
    "\n",
    "  out=[[0]*n_rows for _ in range(n_cols)]\n",
    "  for i in range(n_rows):\n",
    "    for j in range(n_cols):\n",
    "      out[j][i]=M[i][j]\n",
    "  return out\n"
   ]
  },
  {
   "cell_type": "code",
   "execution_count": 10,
   "metadata": {},
   "outputs": [],
   "source": [
    "def all_same(a_list):\n",
    "  if len(a_list)==0:\n",
    "    return False\n",
    "  for item in a_list:\n",
    "    if a_list[0]!=item:\n",
    "      return False\n",
    "  return a_list[0] "
   ]
  },
  {
   "cell_type": "code",
   "execution_count": 11,
   "metadata": {},
   "outputs": [
    {
     "data": {
      "text/plain": [
       "False"
      ]
     },
     "execution_count": 11,
     "metadata": {},
     "output_type": "execute_result"
    }
   ],
   "source": [
    "all_same([1,0,2])"
   ]
  },
  {
   "cell_type": "code",
   "execution_count": 12,
   "metadata": {},
   "outputs": [],
   "source": [
    "winner_is_2 = [[2, 2, 0],\n",
    "\t[2, 1, 0],\n",
    "\t[2, 1, 1]]\n",
    "\n",
    "winner_is_1 = [[1, 2, 0],\n",
    "\t[2, 1, 0],\n",
    "\t[2, 1, 1]]\n",
    "\n",
    "winner_is_also_1 = [[0, 1, 0],\n",
    "\t[2, 1, 0],\n",
    "\t[2, 1, 1]]\n",
    "\n",
    "no_winner = [[1, 2, 0],\n",
    "\t[2, 1, 0],\n",
    "\t[2, 1, 2]]\n",
    "\n",
    "also_no_winner = [[1, 2, 0],\n",
    "\t[2, 1, 0],\n",
    "\t[2, 1, 0]]"
   ]
  },
  {
   "cell_type": "code",
   "execution_count": 13,
   "metadata": {},
   "outputs": [
    {
     "data": {
      "text/plain": [
       "[False, False, False]"
      ]
     },
     "execution_count": 13,
     "metadata": {},
     "output_type": "execute_result"
    }
   ],
   "source": [
    "list(map(all_same,winner_is_2))"
   ]
  },
  {
   "cell_type": "code",
   "execution_count": 14,
   "metadata": {},
   "outputs": [],
   "source": [
    "winner_is_2_3=[[2,2,2],\n",
    "              [2,1,0],\n",
    "              [2,1,1]]"
   ]
  },
  {
   "cell_type": "code",
   "execution_count": 15,
   "metadata": {},
   "outputs": [
    {
     "data": {
      "text/plain": [
       "[2, False, False]"
      ]
     },
     "execution_count": 15,
     "metadata": {},
     "output_type": "execute_result"
    }
   ],
   "source": [
    "list(map(all_same,winner_is_2_3))"
   ]
  },
  {
   "cell_type": "code",
   "execution_count": 16,
   "metadata": {},
   "outputs": [
    {
     "data": {
      "text/plain": [
       "[2, False, False]"
      ]
     },
     "execution_count": 16,
     "metadata": {},
     "output_type": "execute_result"
    }
   ],
   "source": [
    "list(map(all_same,transpose(winner_is_2)))"
   ]
  },
  {
   "cell_type": "code",
   "execution_count": 17,
   "metadata": {},
   "outputs": [],
   "source": [
    "def get_diagonals(matrix):\n",
    "    n=len(matrix)\n",
    "    out_1=list()\n",
    "    out_2=list()\n",
    "    for i in range(n):\n",
    "        out_1.append(matrix[i][i])\n",
    "        out_2.append(matrix[i][n-i-1])\n",
    "    return [out_1,out_2]"
   ]
  },
  {
   "cell_type": "code",
   "execution_count": 18,
   "metadata": {},
   "outputs": [
    {
     "data": {
      "text/plain": [
       "[[0, 1, 1], [0, 1, 2]]"
      ]
     },
     "execution_count": 18,
     "metadata": {},
     "output_type": "execute_result"
    }
   ],
   "source": [
    "get_diagonals(winner_is_also_1)"
   ]
  },
  {
   "cell_type": "code",
   "execution_count": 19,
   "metadata": {},
   "outputs": [],
   "source": [
    "def game_won(board):\n",
    "  if any(map(all_same,board)):\n",
    "    return True\n",
    "  elif any(map(all_same,transpose(board))):\n",
    "    return True\n",
    "  else:\n",
    "    return False"
   ]
  },
  {
   "cell_type": "markdown",
   "metadata": {},
   "source": [
    "*Exercise 5:* Write a function that takes a game board, player number, and `(x,y)` coordinates and places \"X\" or \"O\" in the correct location of the game board. Make sure that you only allow filling previously empty locations. Return `True` or `False` to indicate successful placement of \"X\" or \"O\"."
   ]
  },
  {
   "cell_type": "code",
   "execution_count": 20,
   "metadata": {},
   "outputs": [],
   "source": [
    "player_1=\"X\"\n",
    "player_2=\"O\""
   ]
  },
  {
   "cell_type": "code",
   "execution_count": 21,
   "metadata": {},
   "outputs": [],
   "source": [
    "def place_marker(board,marker,position):\n",
    "    row,col=position\n",
    "    board[row][col]=marker\n",
    "    print_board(board)"
   ]
  },
  {
   "cell_type": "code",
   "execution_count": 22,
   "metadata": {},
   "outputs": [
    {
     "name": "stdout",
     "output_type": "stream",
     "text": [
      " --- --- ---\n",
      "| 0 | 0 | 0 |\n",
      " --- --- ---\n",
      "| 0 | 0 | 0 |\n",
      " --- --- ---\n",
      "| O | 0 | 0 |\n",
      " --- --- ---\n"
     ]
    }
   ],
   "source": [
    "place_marker(board,player_2,(2,0))"
   ]
  },
  {
   "cell_type": "markdown",
   "metadata": {},
   "source": [
    "*Exercise 6:* Modify Exercise 3 to show column and row labels so that players can specify location using \"A2\" or \"C1\"."
   ]
  },
  {
   "cell_type": "code",
   "execution_count": 23,
   "metadata": {},
   "outputs": [],
   "source": [
    "rownames=['A','B','C']\n",
    "colnames=['1','2','3']\n",
    "rowmap=dict(zip(rownames,range(size)))\n",
    "colmap=dict(zip(colnames,range(size)))\n",
    "\n",
    "def drawboard(board):\n",
    "    print(\" \",end=\" \")\n",
    "    for x in range(size):\n",
    "      print(colnames[x],end=\"\")\n",
    "    print()\n",
    "\n",
    "    for x in range(size):\n",
    "      print(rownames[x],end=\" \")\n",
    "      for y in range(size):\n",
    "          print(board[x][y],end=\" \")\n",
    "      print()\n",
    "    "
   ]
  },
  {
   "cell_type": "code",
   "execution_count": 24,
   "metadata": {},
   "outputs": [
    {
     "name": "stdout",
     "output_type": "stream",
     "text": [
      "  123\n",
      "A 0 0 0 \n",
      "B 0 0 0 \n",
      "C O 0 0 \n"
     ]
    }
   ],
   "source": [
    "drawboard(board)"
   ]
  },
  {
   "cell_type": "markdown",
   "metadata": {},
   "source": [
    "*Exercise 7:* Write a function that takes a board, player number, and location specified as in exercise 6 and then calls exercise 5 to correctly modify the board.  "
   ]
  },
  {
   "cell_type": "code",
   "execution_count": 25,
   "metadata": {},
   "outputs": [],
   "source": [
    "def parse_location(l_string):\n",
    "    if not isinstance(l_string,str):\n",
    "        print(\"Bad Input. Location must be string.\")\n",
    "        return False\n",
    "    \n",
    "    if len(l_string)!=2:\n",
    "        print(\"Bad Input. Location must be 2 characters.\")\n",
    "        return False\n",
    "    \n",
    "    row=l_string[0].upper()\n",
    "    col=l_string[1].upper()\n",
    "    \n",
    "    if not row in rownames:\n",
    "        print(\"Bad Row.\")\n",
    "        return False\n",
    "\n",
    "    if not col in colnames:\n",
    "        print(\"Bad Column.\")\n",
    "        return False\n",
    "\n",
    "    return rowmap[row],colmap[col]\n",
    "    \n",
    "def mod_board(board,marker,location):\n",
    "  parsed_lcation=parse_location(location)\n",
    "  if parse_location:\n",
    "    row,col=parsed_lcation\n",
    "    board[row][col]=marker\n",
    "    return board"
   ]
  },
  {
   "cell_type": "code",
   "execution_count": 26,
   "metadata": {},
   "outputs": [
    {
     "data": {
      "text/plain": [
       "[[0, 0, 0], [0, 0, 0], ['O', 0, 'X']]"
      ]
     },
     "execution_count": 26,
     "metadata": {},
     "output_type": "execute_result"
    }
   ],
   "source": [
    "mod_board(board,player_1,\"C3\")"
   ]
  },
  {
   "cell_type": "markdown",
   "metadata": {},
   "source": [
    "*Exercise 8:* Write a function is called with a board and player number, takes input from the player using python's `input`, and modifies the board using your function from exercise 7. Note that you should keep asking for input until you have gotten a valid input that results in a valid move."
   ]
  },
  {
   "cell_type": "code",
   "execution_count": 27,
   "metadata": {},
   "outputs": [],
   "source": [
    "def mod_in(board,marker):\n",
    "  location=input(\"Enter location:\")\n",
    "  parsed_location=parse_location(location)\n",
    "  if parsed_location:\n",
    "    row,col=parsed_location\n",
    "    board[row][col]=marker\n",
    "    return board"
   ]
  },
  {
   "cell_type": "code",
   "execution_count": 28,
   "metadata": {},
   "outputs": [
    {
     "name": "stdout",
     "output_type": "stream",
     "text": [
      "Enter location:a3\n"
     ]
    },
    {
     "data": {
      "text/plain": [
       "[[0, 0, 'O'], [0, 0, 0], ['O', 0, 'X']]"
      ]
     },
     "execution_count": 28,
     "metadata": {},
     "output_type": "execute_result"
    }
   ],
   "source": [
    "mod_in(board,player_2)"
   ]
  },
  {
   "cell_type": "markdown",
   "metadata": {},
   "source": [
    "*Exercise 9:* Use all of the previous exercises to implement a full tic-tac-toe game, where an appropriate board is drawn, 2 players are repeatedly asked for a location coordinates of where they wish to place a mark, and the game status is checked until a player wins or a draw occurs."
   ]
  },
  {
   "cell_type": "code",
   "execution_count": 29,
   "metadata": {},
   "outputs": [],
   "source": [
    "def play_tic_tac_toe():\n",
    "  print(\"Welcome to Tic Tac Toe\")\n",
    "\n",
    "  board0=create_board()\n",
    "\n",
    "  player=player_1\n",
    "\n",
    "  this_game_won=False\n",
    "  while not this_game_won:\n",
    "    print_board(board0)\n",
    "\n",
    "    print(\"Player\",player,\"make your move:\")\n",
    "    mod_in(board0,player)\n",
    "\n",
    "    this_game_won=game_won(board0)\n",
    "\n",
    "    if player==player_1:\n",
    "        player=player_2\n",
    "    else:\n",
    "      player=player_1\n",
    "\n",
    "  print(\"The winner is\",this_game_won)\n"
   ]
  },
  {
   "cell_type": "code",
   "execution_count": 30,
   "metadata": {},
   "outputs": [
    {
     "name": "stdout",
     "output_type": "stream",
     "text": [
      "Welcome to Tic Tac Toe\n",
      " --- --- ---\n",
      "| 0 | 0 | 0 |\n",
      " --- --- ---\n",
      "| 0 | 0 | 0 |\n",
      " --- --- ---\n",
      "| 0 | 0 | 0 |\n",
      " --- --- ---\n",
      "Player X make your move:\n",
      "Enter location:b2\n",
      " --- --- ---\n",
      "| 0 | 0 | 0 |\n",
      " --- --- ---\n",
      "| 0 | X | 0 |\n",
      " --- --- ---\n",
      "| 0 | 0 | 0 |\n",
      " --- --- ---\n",
      "Player O make your move:\n",
      "Enter location:a1\n",
      " --- --- ---\n",
      "| O | 0 | 0 |\n",
      " --- --- ---\n",
      "| 0 | X | 0 |\n",
      " --- --- ---\n",
      "| 0 | 0 | 0 |\n",
      " --- --- ---\n",
      "Player X make your move:\n",
      "Enter location:a2\n",
      " --- --- ---\n",
      "| O | X | 0 |\n",
      " --- --- ---\n",
      "| 0 | X | 0 |\n",
      " --- --- ---\n",
      "| 0 | 0 | 0 |\n",
      " --- --- ---\n",
      "Player O make your move:\n",
      "Enter location:c2\n",
      " --- --- ---\n",
      "| O | X | 0 |\n",
      " --- --- ---\n",
      "| 0 | X | 0 |\n",
      " --- --- ---\n",
      "| 0 | O | 0 |\n",
      " --- --- ---\n",
      "Player X make your move:\n",
      "Enter location:a3\n",
      " --- --- ---\n",
      "| O | X | X |\n",
      " --- --- ---\n",
      "| 0 | X | 0 |\n",
      " --- --- ---\n",
      "| 0 | O | 0 |\n",
      " --- --- ---\n",
      "Player O make your move:\n",
      "Enter location:c1\n",
      " --- --- ---\n",
      "| O | X | X |\n",
      " --- --- ---\n",
      "| 0 | X | 0 |\n",
      " --- --- ---\n",
      "| O | O | 0 |\n",
      " --- --- ---\n",
      "Player X make your move:\n",
      "Enter location:c3\n",
      " --- --- ---\n",
      "| O | X | X |\n",
      " --- --- ---\n",
      "| 0 | X | 0 |\n",
      " --- --- ---\n",
      "| O | O | X |\n",
      " --- --- ---\n",
      "Player O make your move:\n",
      "Enter location:b1\n",
      "The winner is True\n"
     ]
    }
   ],
   "source": [
    "play_tic_tac_toe()"
   ]
  },
  {
   "cell_type": "markdown",
   "metadata": {},
   "source": [
    "*Exercise 10:* Test that your game works for 5x5 Tic Tac Toe.  "
   ]
  },
  {
   "cell_type": "code",
   "execution_count": null,
   "metadata": {
    "collapsed": true
   },
   "outputs": [],
   "source": [
    "# Test your solution here"
   ]
  },
  {
   "cell_type": "markdown",
   "metadata": {},
   "source": [
    "*Exercise 11:* (Advanced / Challenge) Develop a version of the game where one player is the computer. Note that you don't need to do an extensive seach for the best move. You can have the computer simply protect against loosing and otherwise try to win with straight or diagonal patterns."
   ]
  },
  {
   "cell_type": "code",
   "execution_count": null,
   "metadata": {
    "collapsed": true
   },
   "outputs": [],
   "source": [
    "# Write you solution here"
   ]
  },
  {
   "cell_type": "code",
   "execution_count": null,
   "metadata": {
    "collapsed": true
   },
   "outputs": [],
   "source": [
    "# Test your solution here"
   ]
  }
 ],
 "metadata": {
  "kernelspec": {
   "display_name": "Python 3 (ipykernel)",
   "language": "python",
   "name": "python3"
  },
  "language_info": {
   "codemirror_mode": {
    "name": "ipython",
    "version": 3
   },
   "file_extension": ".py",
   "mimetype": "text/x-python",
   "name": "python",
   "nbconvert_exporter": "python",
   "pygments_lexer": "ipython3",
   "version": "3.12.3"
  }
 },
 "nbformat": 4,
 "nbformat_minor": 2
}
