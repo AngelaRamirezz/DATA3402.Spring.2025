{
 "cells": [
  {
   "cell_type": "markdown",
   "metadata": {},
   "source": [
    "# Lab 5\n"
   ]
  },
  {
   "cell_type": "markdown",
   "metadata": {},
   "source": [
    "Matrix Representation: In this lab you will be creating a simple linear algebra system. In memory, we will represent matrices as nested python lists as we have done in lecture. In the exercises below, you are required to explicitly test every feature you implement, demonstrating it works.\n",
    "\n",
    "1. Create a `matrix` class with the following properties:\n",
    "    * It can be initialized in 2 ways:\n",
    "        1. with arguments `n` and `m`, the size of the matrix. A newly instanciated matrix will contain all zeros.\n",
    "        2. with a list of lists of values. Note that since we are using lists of lists to implement matrices, it is possible that not all rows have the same number of columns. Test explicitly that the matrix is properly specified.\n",
    "    * Matrix instances `M` can be indexed with `M[i][j]` and `M[i,j]`.\n",
    "    * Matrix assignment works in 2 ways:\n",
    "        1. If `M_1` and `M_2` are `matrix` instances `M_1=M_2` sets the values of `M_1` to those of `M_2`, if they are the same size. Error otherwise.\n",
    "        2. In example above `M_2` can be a list of lists of correct size.\n"
   ]
  },
  {
   "cell_type": "code",
   "execution_count": 3,
   "metadata": {},
   "outputs": [],
   "source": [
    "class Matrix:\n",
    "    def __init__(self, rows, cols, init_val=0):\n",
    "        self.rows=rows\n",
    "        self.cols=cols\n",
    "        self.data=[[init_val for _ in range(cols)] for _ in range(rows)]\n",
    "\n",
    "    def __getitem__(self,key):\n",
    "        if isinstance(key,tuple):\n",
    "            i,j=key \n",
    "        else:\n",
    "            return None\n",
    "        \n",
    "    def is_matrix(M):\n",
    "        if isinstance(M, list):\n",
    "            row_length=len(M[0])\n",
    "            for row in M:\n",
    "                if not row_length==len(row):\n",
    "                    return False\n",
    "        else:\n",
    "            return False\n",
    "        return True\n",
    "                    \n",
    "        \n",
    "    def shape(M):\n",
    "        if Matrix.is_matrix(M):\n",
    "            m=len(M)\n",
    "            n=len(M[0])\n",
    "            return m,n\n",
    "        else:\n",
    "            return 0,0\n",
    "    \n",
    "    def transpose(self):\n",
    "        return \n",
    "    \n",
    "    def row(self,n):\n",
    "        return m\n",
    "    \n",
    "    def columns(self,n):\n",
    "        return n \n",
    "    \n",
    "    def to_list(self):\n",
    "        return self.data\n",
    "    \n",
    "    def matrix_shape(M):\n",
    "        if Matrix.is_matrix(M):\n",
    "            m=len(M)\n",
    "            n=len(M[0])\n",
    "            return m,n\n",
    "        else:\n",
    "            return 0,0\n",
    "\n",
    "        \n",
    "def matrix_multiply(M1,M2):\n",
    "    m1,n1=Matrix.matrix_shape(M1)\n",
    "    m2,n2=Matrix.matrix_shape(M2)\n",
    "    \n",
    "    if n1==m2:\n",
    "        \n",
    "        M3=zero_matrix(m1,n2)\n",
    "        \n",
    "        for i in range(m1):\n",
    "            for j in range(n2):\n",
    "                for k in range(n1):\n",
    "                    M3[i][j]+=M1[i][k]*M2[k][j]\n",
    "        return M3\n",
    "    \n",
    "    return False\n",
    "\n",
    "def zero_matrix(m,n):\n",
    "    M=[[0 for _ in range(n)] for _ in range(m)]\n",
    "    return M\n",
    "\n",
    "def scalar_multiply(s,M):\n",
    "    m,n=Matrix.matrix_shape(M)\n",
    "    M_new=[[0 for _ in range(n)] for _ in range(m)]\n",
    "    for i in range(m):\n",
    "        for j in range(n):\n",
    "            M_new[i][j]=s*M[i][j]\n",
    "    return M_new\n",
    "\n",
    "def add(M1,M2):\n",
    "    m1,n1=Matrix.matrix_shape(M1)\n",
    "    m2,n2=Matrix.matrix_shape(M2)\n",
    "    if m1==m2 and n1==n2:\n",
    "        M3=zero_matrix(m1,n1)\n",
    "        for i in range(m1):\n",
    "            for j in range(n1):\n",
    "                M3[i][j]=M1[i][j]+M2[i][j]\n",
    "        return M3\n",
    "    return False\n",
    "\n",
    "def sub(M1,M2):\n",
    "    m1,n1=Matrix.matrix_shape(M1)\n",
    "    m2,n2=Matrix.matrix_shape(M2)\n",
    "    if m1==m2 and n1==n2:\n",
    "        M3=zero_matrix(m1,n1)\n",
    "        for i in range(m1):\n",
    "            for j in range(n1):\n",
    "                M3[i][j]=M1[i][j]-M2[i][j]\n",
    "        return M3\n",
    "    return False\n",
    "\n",
    "def element_multiply(M1,M2):\n",
    "    m1,n1=Matrix.matrix_shape(M1)\n",
    "    m2,n2=Matrix.matrix_shape(M2)\n",
    "    if m1==m2 and n1==n2:\n",
    "        M3=zero_matrix(m1,n1)\n",
    "        for i in range(m1):\n",
    "            for j in range(n1):\n",
    "                M3[i][j]=M1[i][j]*M2[i][j]\n",
    "        return M3\n",
    "    return False\n",
    "\n",
    "def equals(M1,M2):\n",
    "    m1,n1=Matrix.matrix_shape(M1)\n",
    "    m2,n2=Matrix.matrix_shape(M2)\n",
    "    if m1==m2 and n1==n2:\n",
    "        for i in range(m1):\n",
    "            for j in range(n1):\n",
    "                if M1[i][j]!=M2[i][j]:\n",
    "                    return False\n",
    "    return True\n"
   ]
  },
  {
   "cell_type": "markdown",
   "metadata": {},
   "source": [
    "2. Add the following methods:\n",
    "    * `shape()`: returns a tuple `(n,m)` of the shape of the matrix.\n",
    "    * `transpose()`: returns a new matrix instance which is the transpose of the matrix.\n",
    "    * `row(n)` and `column(n)`: that return the nth row or column of the matrix M as a new appropriately shaped matrix object.\n",
    "    * `to_list()`: which returns the matrix as a list of lists.\n",
    "    *  `block(n_0,n_1,m_0,m_1)` that returns a smaller matrix located at the n_0 to n_1 columns and m_0 to m_1 rows. \n",
    "    * (Extra credit) Modify `__getitem__` implemented above to support slicing.\n",
    "        "
   ]
  },
  {
   "cell_type": "markdown",
   "metadata": {},
   "source": [
    "3. Write functions that create special matrices (note these are standalone functions, not member functions of your `matrix` class):\n",
    "    * `constant(n,m,c)`: returns a `n` by `m` matrix filled with floats of value `c`.\n",
    "    * `zeros(n,m)` and `ones(n,m)`: return `n` by `m` matrices filled with floats of value `0` and `1`, respectively.\n",
    "    * `eye(n)`: returns the n by n identity matrix."
   ]
  },
  {
   "cell_type": "code",
   "execution_count": 4,
   "metadata": {},
   "outputs": [],
   "source": [
    "def constant(self,n,m,c):\n",
    "    return Matrix([[c for j in range(m)] for i in range(n)])"
   ]
  },
  {
   "cell_type": "code",
   "execution_count": 5,
   "metadata": {},
   "outputs": [],
   "source": [
    "def zeros(n,m):\n",
    "    return Matrix([[0 for j in range(m)] for i in range(n)])\n",
    "def ones(n,m):\n",
    "    return Matrix([[1 for j in range(m)] for i in range(n)])"
   ]
  },
  {
   "cell_type": "code",
   "execution_count": 6,
   "metadata": {},
   "outputs": [],
   "source": [
    "def eye(n):\n",
    "    return Matrix([[1 if i == j else 0 for j in range(n)] for i in range(n)])"
   ]
  },
  {
   "cell_type": "markdown",
   "metadata": {},
   "source": [
    "4. Add the following member functions to your class. Make sure to appropriately test the dimensions of the matrices to make sure the operations are correct.\n",
    "    * `M.scalarmul(c)`: a matrix that is scalar product $cM$, where every element of $M$ is multiplied by $c$.\n",
    "    * `M.add(N)`: adds two matrices $M$ and $N$. Don’t forget to test that the sizes of the matrices are compatible for this and all other operations.\n",
    "    * `M.sub(N)`: subtracts two matrices $M$ and $N$.\n",
    "    * `M.mat_mult(N)`: returns a matrix that is the matrix product of two matrices $M$ and $N$.\n",
    "    * `M.element_mult(N)`: returns a matrix that is the element-wise product of two matrices $M$ and $N$.\n",
    "    * `M.equals(N)`: returns true/false if $M==N$."
   ]
  },
  {
   "cell_type": "markdown",
   "metadata": {},
   "source": [
    "5. Overload python operators to appropriately use your functions in 4 and allow expressions like:\n",
    "    * 2*M\n",
    "    * M*2\n",
    "    * M+N\n",
    "    * M-N\n",
    "    * M*N\n",
    "    * M==N\n",
    "    * M=N\n"
   ]
  },
  {
   "cell_type": "code",
   "execution_count": 7,
   "metadata": {},
   "outputs": [],
   "source": [
    "M1=[[1,2],[2,3]]\n",
    "M2=[[1,0],[0,1]]"
   ]
  },
  {
   "cell_type": "code",
   "execution_count": 8,
   "metadata": {},
   "outputs": [
    {
     "data": {
      "text/plain": [
       "[[2, 4], [4, 6]]"
      ]
     },
     "execution_count": 8,
     "metadata": {},
     "output_type": "execute_result"
    }
   ],
   "source": [
    "scalar_multiply(2,M1)"
   ]
  },
  {
   "cell_type": "code",
   "execution_count": 9,
   "metadata": {},
   "outputs": [
    {
     "data": {
      "text/plain": [
       "[[2, 2], [2, 4]]"
      ]
     },
     "execution_count": 9,
     "metadata": {},
     "output_type": "execute_result"
    }
   ],
   "source": [
    "add(M1,M2)"
   ]
  },
  {
   "cell_type": "code",
   "execution_count": 10,
   "metadata": {},
   "outputs": [
    {
     "data": {
      "text/plain": [
       "[[0, 2], [2, 2]]"
      ]
     },
     "execution_count": 10,
     "metadata": {},
     "output_type": "execute_result"
    }
   ],
   "source": [
    "sub(M1,M2)"
   ]
  },
  {
   "cell_type": "code",
   "execution_count": 11,
   "metadata": {},
   "outputs": [
    {
     "data": {
      "text/plain": [
       "[[1, 2], [2, 3]]"
      ]
     },
     "execution_count": 11,
     "metadata": {},
     "output_type": "execute_result"
    }
   ],
   "source": [
    "matrix_multiply(M1,M2)"
   ]
  },
  {
   "cell_type": "code",
   "execution_count": 12,
   "metadata": {},
   "outputs": [
    {
     "data": {
      "text/plain": [
       "[[1, 0], [0, 3]]"
      ]
     },
     "execution_count": 12,
     "metadata": {},
     "output_type": "execute_result"
    }
   ],
   "source": [
    "element_multiply(M1,M2)"
   ]
  },
  {
   "cell_type": "code",
   "execution_count": 13,
   "metadata": {},
   "outputs": [
    {
     "data": {
      "text/plain": [
       "False"
      ]
     },
     "execution_count": 13,
     "metadata": {},
     "output_type": "execute_result"
    }
   ],
   "source": [
    "equals(M1,M2)"
   ]
  },
  {
   "cell_type": "markdown",
   "metadata": {},
   "source": [
    "6. Demonstrate the basic properties of matrices with your matrix class by creating two 2 by 2 example matrices using your Matrix class and illustrating the following:\n",
    "\n",
    "$$\n",
    "(AB)C=A(BC)\n",
    "$$\n",
    "$$\n",
    "A(B+C)=AB+AC\n",
    "$$\n",
    "$$\n",
    "AB\\neq BA\n",
    "$$\n",
    "$$\n",
    "AI=A\n",
    "$$"
   ]
  },
  {
   "cell_type": "code",
   "execution_count": 21,
   "metadata": {},
   "outputs": [],
   "source": [
    "A=[[1,2],[3,4]]\n",
    "B=[[1,1],[1,1]]\n",
    "C=[[1,3],[2,4]]"
   ]
  },
  {
   "cell_type": "code",
   "execution_count": 27,
   "metadata": {},
   "outputs": [
    {
     "name": "stdout",
     "output_type": "stream",
     "text": [
      "[[3, 3], [7, 7]]\n"
     ]
    }
   ],
   "source": [
    "AB=matrix_multiply(A,B)\n",
    "print(AB)"
   ]
  },
  {
   "cell_type": "code",
   "execution_count": 29,
   "metadata": {},
   "outputs": [
    {
     "name": "stdout",
     "output_type": "stream",
     "text": [
      "[[30, 30], [70, 70]]\n"
     ]
    }
   ],
   "source": [
    "ABC=matrix_multiply(AB,C)\n",
    "print(ABC)"
   ]
  },
  {
   "cell_type": "code",
   "execution_count": 31,
   "metadata": {},
   "outputs": [
    {
     "name": "stdout",
     "output_type": "stream",
     "text": [
      "[[10, 10], [10, 10]]\n"
     ]
    }
   ],
   "source": [
    "BC=matrix_multiply(B,C)\n",
    "print(BC)"
   ]
  },
  {
   "cell_type": "code",
   "execution_count": 33,
   "metadata": {},
   "outputs": [
    {
     "name": "stdout",
     "output_type": "stream",
     "text": [
      "[[30, 30], [70, 70]]\n"
     ]
    }
   ],
   "source": [
    "A_BC=matrix_multiply(A,BC)\n",
    "print(A_BC)"
   ]
  },
  {
   "cell_type": "code",
   "execution_count": 34,
   "metadata": {},
   "outputs": [
    {
     "name": "stdout",
     "output_type": "stream",
     "text": [
      "[[4, 4], [8, 8]]\n"
     ]
    }
   ],
   "source": [
    "BpC=add(B,C)\n",
    "print(BpC)"
   ]
  },
  {
   "cell_type": "code",
   "execution_count": 36,
   "metadata": {},
   "outputs": [
    {
     "name": "stdout",
     "output_type": "stream",
     "text": [
      "[[20, 20], [44, 44]]\n"
     ]
    }
   ],
   "source": [
    "ABpC=matrix_multiply(A,BpC)\n",
    "print(ABpC)"
   ]
  },
  {
   "cell_type": "code",
   "execution_count": 38,
   "metadata": {},
   "outputs": [
    {
     "name": "stdout",
     "output_type": "stream",
     "text": [
      "[[17, 17], [37, 37]]\n"
     ]
    }
   ],
   "source": [
    "AC=matrix_multiply(A,C)\n",
    "print (AC)"
   ]
  },
  {
   "cell_type": "code",
   "execution_count": 40,
   "metadata": {},
   "outputs": [
    {
     "name": "stdout",
     "output_type": "stream",
     "text": [
      "[[13, 13], [17, 17]]\n"
     ]
    }
   ],
   "source": [
    "ABpBC=add(AB,BC)\n",
    "print(ABpBC)"
   ]
  },
  {
   "cell_type": "code",
   "execution_count": 44,
   "metadata": {},
   "outputs": [
    {
     "name": "stdout",
     "output_type": "stream",
     "text": [
      "[[4, 6], [4, 6]]\n"
     ]
    }
   ],
   "source": [
    "BA=matrix_multiply(B,A)\n",
    "print(BA)"
   ]
  },
  {
   "cell_type": "code",
   "execution_count": 45,
   "metadata": {},
   "outputs": [
    {
     "data": {
      "text/plain": [
       "False"
      ]
     },
     "execution_count": 45,
     "metadata": {},
     "output_type": "execute_result"
    }
   ],
   "source": [
    "equals(AB,BA)"
   ]
  },
  {
   "cell_type": "code",
   "execution_count": 46,
   "metadata": {},
   "outputs": [],
   "source": [
    "I=[[1,0],[0,1]]"
   ]
  },
  {
   "cell_type": "code",
   "execution_count": 48,
   "metadata": {},
   "outputs": [
    {
     "name": "stdout",
     "output_type": "stream",
     "text": [
      "[[1, 2], [3, 4]]\n"
     ]
    }
   ],
   "source": [
    "AI=matrix_multiply(A,I)\n",
    "print(AI)"
   ]
  },
  {
   "cell_type": "code",
   "execution_count": 49,
   "metadata": {},
   "outputs": [
    {
     "data": {
      "text/plain": [
       "True"
      ]
     },
     "execution_count": 49,
     "metadata": {},
     "output_type": "execute_result"
    }
   ],
   "source": [
    "equals(AI,A)"
   ]
  },
  {
   "cell_type": "code",
   "execution_count": 64,
   "metadata": {},
   "outputs": [],
   "source": [
    "#Quiz 2\n",
    "\n",
    "suits=['Hearts','Diamonds','Clubs','Spades']\n",
    "ranks=list(range(2,10))+['Jack','Queen','King','Ace']\n",
    "\n",
    "def make_deck():\n",
    "    deck=list()\n",
    "    for suit in suits:\n",
    "        for value in ranks:\n",
    "            deck.append((suit,ranks))\n",
    "    return deck"
   ]
  },
  {
   "cell_type": "code",
   "execution_count": 65,
   "metadata": {},
   "outputs": [
    {
     "data": {
      "text/plain": [
       "[('Hearts', [2, 3, 4, 5, 6, 7, 8, 9, 'Jack', 'Queen', 'King', 'Ace']),\n",
       " ('Hearts', [2, 3, 4, 5, 6, 7, 8, 9, 'Jack', 'Queen', 'King', 'Ace']),\n",
       " ('Hearts', [2, 3, 4, 5, 6, 7, 8, 9, 'Jack', 'Queen', 'King', 'Ace']),\n",
       " ('Hearts', [2, 3, 4, 5, 6, 7, 8, 9, 'Jack', 'Queen', 'King', 'Ace']),\n",
       " ('Hearts', [2, 3, 4, 5, 6, 7, 8, 9, 'Jack', 'Queen', 'King', 'Ace']),\n",
       " ('Hearts', [2, 3, 4, 5, 6, 7, 8, 9, 'Jack', 'Queen', 'King', 'Ace']),\n",
       " ('Hearts', [2, 3, 4, 5, 6, 7, 8, 9, 'Jack', 'Queen', 'King', 'Ace']),\n",
       " ('Hearts', [2, 3, 4, 5, 6, 7, 8, 9, 'Jack', 'Queen', 'King', 'Ace']),\n",
       " ('Hearts', [2, 3, 4, 5, 6, 7, 8, 9, 'Jack', 'Queen', 'King', 'Ace']),\n",
       " ('Hearts', [2, 3, 4, 5, 6, 7, 8, 9, 'Jack', 'Queen', 'King', 'Ace']),\n",
       " ('Hearts', [2, 3, 4, 5, 6, 7, 8, 9, 'Jack', 'Queen', 'King', 'Ace']),\n",
       " ('Hearts', [2, 3, 4, 5, 6, 7, 8, 9, 'Jack', 'Queen', 'King', 'Ace']),\n",
       " ('Diamonds', [2, 3, 4, 5, 6, 7, 8, 9, 'Jack', 'Queen', 'King', 'Ace']),\n",
       " ('Diamonds', [2, 3, 4, 5, 6, 7, 8, 9, 'Jack', 'Queen', 'King', 'Ace']),\n",
       " ('Diamonds', [2, 3, 4, 5, 6, 7, 8, 9, 'Jack', 'Queen', 'King', 'Ace']),\n",
       " ('Diamonds', [2, 3, 4, 5, 6, 7, 8, 9, 'Jack', 'Queen', 'King', 'Ace']),\n",
       " ('Diamonds', [2, 3, 4, 5, 6, 7, 8, 9, 'Jack', 'Queen', 'King', 'Ace']),\n",
       " ('Diamonds', [2, 3, 4, 5, 6, 7, 8, 9, 'Jack', 'Queen', 'King', 'Ace']),\n",
       " ('Diamonds', [2, 3, 4, 5, 6, 7, 8, 9, 'Jack', 'Queen', 'King', 'Ace']),\n",
       " ('Diamonds', [2, 3, 4, 5, 6, 7, 8, 9, 'Jack', 'Queen', 'King', 'Ace']),\n",
       " ('Diamonds', [2, 3, 4, 5, 6, 7, 8, 9, 'Jack', 'Queen', 'King', 'Ace']),\n",
       " ('Diamonds', [2, 3, 4, 5, 6, 7, 8, 9, 'Jack', 'Queen', 'King', 'Ace']),\n",
       " ('Diamonds', [2, 3, 4, 5, 6, 7, 8, 9, 'Jack', 'Queen', 'King', 'Ace']),\n",
       " ('Diamonds', [2, 3, 4, 5, 6, 7, 8, 9, 'Jack', 'Queen', 'King', 'Ace']),\n",
       " ('Clubs', [2, 3, 4, 5, 6, 7, 8, 9, 'Jack', 'Queen', 'King', 'Ace']),\n",
       " ('Clubs', [2, 3, 4, 5, 6, 7, 8, 9, 'Jack', 'Queen', 'King', 'Ace']),\n",
       " ('Clubs', [2, 3, 4, 5, 6, 7, 8, 9, 'Jack', 'Queen', 'King', 'Ace']),\n",
       " ('Clubs', [2, 3, 4, 5, 6, 7, 8, 9, 'Jack', 'Queen', 'King', 'Ace']),\n",
       " ('Clubs', [2, 3, 4, 5, 6, 7, 8, 9, 'Jack', 'Queen', 'King', 'Ace']),\n",
       " ('Clubs', [2, 3, 4, 5, 6, 7, 8, 9, 'Jack', 'Queen', 'King', 'Ace']),\n",
       " ('Clubs', [2, 3, 4, 5, 6, 7, 8, 9, 'Jack', 'Queen', 'King', 'Ace']),\n",
       " ('Clubs', [2, 3, 4, 5, 6, 7, 8, 9, 'Jack', 'Queen', 'King', 'Ace']),\n",
       " ('Clubs', [2, 3, 4, 5, 6, 7, 8, 9, 'Jack', 'Queen', 'King', 'Ace']),\n",
       " ('Clubs', [2, 3, 4, 5, 6, 7, 8, 9, 'Jack', 'Queen', 'King', 'Ace']),\n",
       " ('Clubs', [2, 3, 4, 5, 6, 7, 8, 9, 'Jack', 'Queen', 'King', 'Ace']),\n",
       " ('Clubs', [2, 3, 4, 5, 6, 7, 8, 9, 'Jack', 'Queen', 'King', 'Ace']),\n",
       " ('Spades', [2, 3, 4, 5, 6, 7, 8, 9, 'Jack', 'Queen', 'King', 'Ace']),\n",
       " ('Spades', [2, 3, 4, 5, 6, 7, 8, 9, 'Jack', 'Queen', 'King', 'Ace']),\n",
       " ('Spades', [2, 3, 4, 5, 6, 7, 8, 9, 'Jack', 'Queen', 'King', 'Ace']),\n",
       " ('Spades', [2, 3, 4, 5, 6, 7, 8, 9, 'Jack', 'Queen', 'King', 'Ace']),\n",
       " ('Spades', [2, 3, 4, 5, 6, 7, 8, 9, 'Jack', 'Queen', 'King', 'Ace']),\n",
       " ('Spades', [2, 3, 4, 5, 6, 7, 8, 9, 'Jack', 'Queen', 'King', 'Ace']),\n",
       " ('Spades', [2, 3, 4, 5, 6, 7, 8, 9, 'Jack', 'Queen', 'King', 'Ace']),\n",
       " ('Spades', [2, 3, 4, 5, 6, 7, 8, 9, 'Jack', 'Queen', 'King', 'Ace']),\n",
       " ('Spades', [2, 3, 4, 5, 6, 7, 8, 9, 'Jack', 'Queen', 'King', 'Ace']),\n",
       " ('Spades', [2, 3, 4, 5, 6, 7, 8, 9, 'Jack', 'Queen', 'King', 'Ace']),\n",
       " ('Spades', [2, 3, 4, 5, 6, 7, 8, 9, 'Jack', 'Queen', 'King', 'Ace']),\n",
       " ('Spades', [2, 3, 4, 5, 6, 7, 8, 9, 'Jack', 'Queen', 'King', 'Ace'])]"
      ]
     },
     "execution_count": 65,
     "metadata": {},
     "output_type": "execute_result"
    }
   ],
   "source": [
    "make_deck()"
   ]
  },
  {
   "cell_type": "markdown",
   "metadata": {},
   "source": []
  }
 ],
 "metadata": {
  "kernelspec": {
   "display_name": "Python 3 (ipykernel)",
   "language": "python",
   "name": "python3"
  },
  "language_info": {
   "codemirror_mode": {
    "name": "ipython",
    "version": 3
   },
   "file_extension": ".py",
   "mimetype": "text/x-python",
   "name": "python",
   "nbconvert_exporter": "python",
   "pygments_lexer": "ipython3",
   "version": "3.12.3"
  }
 },
 "nbformat": 4,
 "nbformat_minor": 2
}
