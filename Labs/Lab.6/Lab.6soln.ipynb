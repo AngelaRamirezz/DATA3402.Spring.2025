{
 "cells": [
  {
   "cell_type": "markdown",
   "metadata": {},
   "source": [
    "# Lab 6"
   ]
  },
  {
   "cell_type": "markdown",
   "metadata": {},
   "source": [
    "You are tasked with evaluating card counting strategies for black jack. In order to do so, you will use object oriented programming to create a playable casino style black jack game where a computer dealer plays against $n$ computer players and possibily one human player. If you don't know the rules of blackjack or card counting, please google it. \n",
    "\n",
    "A few requirements:\n",
    "* The game should utilize multiple 52-card decks. Typically the game is played with 6 decks.\n",
    "* Players should have chips.\n",
    "* Dealer's actions are predefined by rules of the game (typically hit on 16). \n",
    "* The players should be aware of all shown cards so that they can count cards.\n",
    "* Each player could have a different strategy.\n",
    "* The system should allow you to play large numbers of games, study the outcomes, and compare average winnings per hand rate for different strategies."
   ]
  },
  {
   "cell_type": "markdown",
   "metadata": {},
   "source": [
    "1. Begin by creating a classes to represent cards and decks. The deck should support more than one 52-card set. The deck should allow you to shuffle and draw cards. Include a \"plastic\" card, placed randomly in the deck. Later, when the plastic card is dealt, shuffle the cards before the next deal."
   ]
  },
  {
   "cell_type": "code",
   "execution_count": 5,
   "metadata": {},
   "outputs": [],
   "source": [
    "deck=list()\n",
    "for suite in (\"Clubs\",\"Diamonds\",\"Hearts\",\"Spades\"):\n",
    "    for values in list(range(2,10))+[\"Ace\",\"King\",\"Queen\",\"Jack\"]:\n",
    "        deck.append((suite,values))"
   ]
  },
  {
   "cell_type": "code",
   "execution_count": 6,
   "metadata": {
    "scrolled": true
   },
   "outputs": [
    {
     "data": {
      "text/plain": [
       "[('Clubs', 2),\n",
       " ('Clubs', 3),\n",
       " ('Clubs', 4),\n",
       " ('Clubs', 5),\n",
       " ('Clubs', 6),\n",
       " ('Clubs', 7),\n",
       " ('Clubs', 8),\n",
       " ('Clubs', 9),\n",
       " ('Clubs', 'Ace'),\n",
       " ('Clubs', 'King'),\n",
       " ('Clubs', 'Queen'),\n",
       " ('Clubs', 'Jack'),\n",
       " ('Diamonds', 2),\n",
       " ('Diamonds', 3),\n",
       " ('Diamonds', 4),\n",
       " ('Diamonds', 5),\n",
       " ('Diamonds', 6),\n",
       " ('Diamonds', 7),\n",
       " ('Diamonds', 8),\n",
       " ('Diamonds', 9),\n",
       " ('Diamonds', 'Ace'),\n",
       " ('Diamonds', 'King'),\n",
       " ('Diamonds', 'Queen'),\n",
       " ('Diamonds', 'Jack'),\n",
       " ('Hearts', 2),\n",
       " ('Hearts', 3),\n",
       " ('Hearts', 4),\n",
       " ('Hearts', 5),\n",
       " ('Hearts', 6),\n",
       " ('Hearts', 7),\n",
       " ('Hearts', 8),\n",
       " ('Hearts', 9),\n",
       " ('Hearts', 'Ace'),\n",
       " ('Hearts', 'King'),\n",
       " ('Hearts', 'Queen'),\n",
       " ('Hearts', 'Jack'),\n",
       " ('Spades', 2),\n",
       " ('Spades', 3),\n",
       " ('Spades', 4),\n",
       " ('Spades', 5),\n",
       " ('Spades', 6),\n",
       " ('Spades', 7),\n",
       " ('Spades', 8),\n",
       " ('Spades', 9),\n",
       " ('Spades', 'Ace'),\n",
       " ('Spades', 'King'),\n",
       " ('Spades', 'Queen'),\n",
       " ('Spades', 'Jack')]"
      ]
     },
     "execution_count": 6,
     "metadata": {},
     "output_type": "execute_result"
    }
   ],
   "source": [
    "deck"
   ]
  },
  {
   "cell_type": "markdown",
   "metadata": {},
   "source": [
    "2. Now design your game on a UML diagram. You may want to create classes to represent, players, a hand, and/or the game. As you work through the lab, update your UML diagram. At the end of the lab, submit your diagram (as pdf file) along with your notebook. "
   ]
  },
  {
   "cell_type": "markdown",
   "metadata": {},
   "source": [
    "3. Begin with implementing the skeleton (ie define data members and methods/functions, but do not code the logic) of the classes in your UML diagram."
   ]
  },
  {
   "cell_type": "code",
   "execution_count": 7,
   "metadata": {},
   "outputs": [],
   "source": [
    "class base:\n",
    "    SILENT=6\n",
    "    DEBUG=1\n",
    "    INFO=2\n",
    "    WARNING=3\n",
    "    ERROR=4\n",
    "    CRITICAL=5\n",
    "    \n",
    "    def __init__(self,level=0):\n",
    "        self.level=level\n",
    "        \n",
    "    def message(self,level,*args):\n",
    "        if level >= self.level:\n",
    "            print(*args)"
   ]
  },
  {
   "cell_type": "code",
   "execution_count": 8,
   "metadata": {},
   "outputs": [],
   "source": [
    "class Card(base):\n",
    "    __suits = [\"Clubs\", \"Diamonds\", \"Hearts\", \"Spades\", \"ShuffleCard\"]\n",
    "    __values = list(range(2,11)) + [ \"Jack\", \"Queen\", \"King\", \"Ace\"]\n",
    "\n",
    "    def __init__(self,suit,value=None):\n",
    "        base.__init__(self)\n",
    "        self.__suit = suit if suit in self.__suits else None\n",
    "        self.__value = value if value in self.__values else None\n",
    "        \n",
    "        if self.__suit is None:\n",
    "            self.message(self.ERROR, \"Error, bad suit:\",suit)\n",
    "\n",
    "        if self.__value is None and self.__suit != \"ShuffleCard\":\n",
    "            self.message(self.ERROR, \"Error, bad value:\",value)\n",
    "\n",
    "    def value(self):\n",
    "        return self.__value\n",
    "    \n",
    "    def suit(self):\n",
    "        return self.__suit\n",
    "    \n",
    "    def numerical_value(self):\n",
    "        # Special Handling of aces\n",
    "        if self.__value == \"Ace\":\n",
    "            return 1\n",
    "        elif self.__value in [ \"Jack\", \"Queen\", \"King\"]:\n",
    "            return 10\n",
    "        else:\n",
    "            return self.__value\n",
    "        \n",
    "    def shuffle_card(self):\n",
    "        return self.__suit == \"ShuffleCard\"\n",
    "\n",
    "    def __str__(self):\n",
    "        if self.shuffle_card():\n",
    "            return \"Shuffle Card\"\n",
    "        else:\n",
    "            return str(self.__value) + \" of \" + self.__suit\n",
    "\n",
    "    __repr__ = __str__"
   ]
  },
  {
   "cell_type": "code",
   "execution_count": 9,
   "metadata": {},
   "outputs": [],
   "source": [
    "import random\n",
    "\n",
    "class Deck(base):\n",
    "    __suits = [\"Clubs\", \"Diamonds\", \"Hearts\", \"Spades\"]\n",
    "    __values = list(range(2,11)) + [ \"Jack\", \"Queen\", \"King\", \"Ace\"]\n",
    "\n",
    "    def __init__(self,n_decks=6):\n",
    "        base.__init__(self)\n",
    "        self.__n_decks=n_decks\n",
    "        \n",
    "        self.__cards = list()\n",
    "        \n",
    "        for _ in range(self.__n_decks):\n",
    "            self.__cards.extend(self.__make_deck())            \n",
    "            \n",
    "        # TODO: Add logic to appropriately place shufflecard\n",
    "        self.__cards.append(Card(\"ShuffleCard\"))\n",
    "        \n",
    "    def __make_deck(self):\n",
    "        deck=list()\n",
    "        for suit in self.__suits:\n",
    "            for value in self.__values:\n",
    "                deck.append(Card(suit,value))\n",
    "        return deck\n",
    "    \n",
    "    def shuffle(self):\n",
    "        random.shuffle(self.__cards) \n",
    "        \n",
    "    def deal(self):\n",
    "        if len(self.__cards)>0:\n",
    "            return self.__cards.pop()\n",
    "        else:\n",
    "            for _ in range(self.__n_decks):\n",
    "                self.__cards.extend(self.__make_deck()) \n",
    "            self.shuffle()\n",
    "            return self.__cards.pop()       "
   ]
  },
  {
   "cell_type": "code",
   "execution_count": 10,
   "metadata": {},
   "outputs": [
    {
     "data": {
      "text/plain": [
       "[8 of Hearts,\n",
       " Jack of Spades,\n",
       " 5 of Clubs,\n",
       " 5 of Hearts,\n",
       " King of Diamonds,\n",
       " King of Diamonds,\n",
       " 8 of Spades,\n",
       " 3 of Diamonds,\n",
       " 4 of Hearts,\n",
       " 9 of Hearts]"
      ]
     },
     "execution_count": 10,
     "metadata": {},
     "output_type": "execute_result"
    }
   ],
   "source": [
    "my_deck = Deck()\n",
    "my_deck.shuffle()\n",
    "\n",
    "[my_deck.deal() for _ in range(10)]"
   ]
  },
  {
   "cell_type": "code",
   "execution_count": 11,
   "metadata": {},
   "outputs": [],
   "source": [
    "def cacluate_hand_value(hand):\n",
    "    return sum(map(lambda x: x.numerical_value(),hand))"
   ]
  },
  {
   "cell_type": "code",
   "execution_count": 12,
   "metadata": {},
   "outputs": [
    {
     "data": {
      "text/plain": [
       "78"
      ]
     },
     "execution_count": 12,
     "metadata": {},
     "output_type": "execute_result"
    }
   ],
   "source": [
    "cacluate_hand_value([my_deck.deal() for _ in range(10)])"
   ]
  },
  {
   "cell_type": "code",
   "execution_count": 13,
   "metadata": {},
   "outputs": [],
   "source": [
    "class PlayerBase(base):\n",
    "    def __init__(self,name,chips):\n",
    "        base.__init__(self)\n",
    "        self.__name=name\n",
    "        self.__chips=chips\n",
    "        self.__hand=list()\n",
    "    \n",
    "    def name(self):\n",
    "        return self.__name\n",
    "    \n",
    "    def chips(self):\n",
    "        return self.__chips\n",
    "\n",
    "    def pay(self,amount):\n",
    "        self.__chips+=amount\n",
    "\n",
    "    def deduct(self,chips):\n",
    "        self.__chips-=chips\n",
    "\n",
    "    def play_hand(self, down_card, up_card, seen_card):\n",
    "          raise NotImplementedError\n",
    "\n",
    "    def __str__(self):\n",
    "        return self.__name\n",
    "    \n",
    "    __repr__ = __str__\n",
    "\n",
    "class Dealer(PlayerBase):\n",
    "    def __init__(self,threshold):\n",
    "        self._threshold(self,threshold=16)\n",
    "        PlayerBase.__init__(self,\"Dealer\",100)\n",
    "\n",
    "    def play_hand(self, down_card, up_card, seen_card):\n",
    "        hand_value=cacluate_hand_value([down_card]+ up_card)\n",
    "        return hand_value < self.__threshold\n",
    "\n",
    "class ConsolePlayer(PlayerBase):\n",
    "      def play_hand(self, down_card, up_card, seen_card):\n",
    "        print(\"Down Card:\", down_card)\n",
    "        print(\"Up Card:\", up_card)\n",
    "        print(\"Seen Card:\", seen_card)\n",
    "        hit = input(\"Hit? (y/n)\")\n",
    "        return hit == \"y\"\n",
    "\n",
    "class StrategyPlayer(PlayerBase):\n",
    "      def play_hand(self, down_card, up_card, seen_card):\n",
    "              return True"
   ]
  },
  {
   "cell_type": "code",
   "execution_count": 31,
   "metadata": {},
   "outputs": [
    {
     "ename": "IndentationError",
     "evalue": "unexpected indent (785770373.py, line 35)",
     "output_type": "error",
     "traceback": [
      "\u001b[0;36m  Cell \u001b[0;32mIn[31], line 35\u001b[0;36m\u001b[0m\n\u001b[0;31m    deck = None\u001b[0m\n\u001b[0m    ^\u001b[0m\n\u001b[0;31mIndentationError\u001b[0m\u001b[0;31m:\u001b[0m unexpected indent\n"
     ]
    }
   ],
   "source": [
    "class Game(base):\n",
    "      def _init_(self,n_decks=6):\n",
    "        base._init_(self,self.INFO)\n",
    "        self.__n_decks=n_decks\n",
    "        self.__deck=Deck(n_decks)\n",
    "        self.__all_players=list()\n",
    "\n",
    "        self.__shuffle=False\n",
    "\n",
    "        def players(self):\n",
    "            return self.__players\n",
    "\n",
    "        def add_player(self,player):\n",
    "            self.__all_players.append(player)\n",
    "\n",
    "        def deal_and_check_shuffle(self,deck):\n",
    "            card=deck.deal()\n",
    "            if card.shuffle_card():\n",
    "                shuffle=True\n",
    "                card=deck.deal()\n",
    "            return card\n",
    "\n",
    "        def show_status(self,hands,seen_cards):\n",
    "            self.message(self.INFO)\n",
    "            self.message(self.INFO,\"Hands:\",hands)\n",
    "            self.message(self.INFO,\"Seen Cards:\",seen_cards)\n",
    "            self.message(self.INFO,\"Players:\")\n",
    "            for i,player in enumerate(self.__all_players):\n",
    "                self.message(self.INFO,i,\":\",player)\n",
    "                self.message(self.INFO)\n",
    "\n",
    "        def play_game(self,n_hands):\n",
    "              self.add_player(Dealer())\n",
    "               \n",
    "                deck = None \n",
    "                self.__shuffle=False\n",
    "\n",
    "                for i_hand in range(n_hands):\n",
    "                    self.__players=list(filter(lambda player: player.chips()>=2,self._players))\n",
    "                    self.message(self.DEBUG,\"players, all players\",len(self.__players),len(self.__all_players))\n",
    "                    self.message(self.DEBUG,\"Starting Hand\",i_hand,n_hands)\n",
    "\n",
    "                if deck is None or self.__shuffle:\n",
    "                    self.message(self.DEBUG,\"Creating new deck\")\n",
    "                    deck=Deck()\n",
    "                    deck.shuffle()\n",
    "                    seen_cards=list()\n",
    "                    self.__shuffle=False\n",
    "\n",
    "                hands=list()\n",
    "\n",
    "                self.message(self.DEBUG,\"Dealing Hand\")\n",
    "                for player_i,player in enumerate(self.__players):\n",
    "                      down_card=self.deal_and_check_shuffle(deck)\n",
    "                          up_card=list()\n",
    "                              hands.append((down_card,up_card))\n",
    "                                  if player_i < len(self.__players)-1:\n",
    "                seen_cards.append(down_card)\n"
   ]
  },
  {
   "cell_type": "markdown",
   "metadata": {},
   "source": [
    "4. Complete the implementation by coding the logic of all functions. For now, just implement the dealer player and human player."
   ]
  },
  {
   "cell_type": "markdown",
   "metadata": {},
   "source": [
    "5.  Test. Demonstrate game play. For example, create a game of several dealer players and show that the game is functional through several rounds."
   ]
  },
  {
   "cell_type": "markdown",
   "metadata": {},
   "source": [
    "6. Implement a new player with the following strategy:\n",
    "\n",
    "    * Assign each card a value: \n",
    "        * Cards 2 to 6 are +1 \n",
    "        * Cards 7 to 9 are 0 \n",
    "        * Cards 10 through Ace are -1\n",
    "    * Compute the sum of the values for all cards seen so far.\n",
    "    * Hit if sum is very negative, stay if sum is very positive. Select a threshold for hit/stay, e.g. 0 or -2.  "
   ]
  },
  {
   "cell_type": "markdown",
   "metadata": {},
   "source": [
    "7. Create a test scenario where one player, using the above strategy, is playing with a dealer and 3 other players that follow the dealer's strategy. Each player starts with same number of chips. Play 50 rounds (or until the strategy player is out of money). Compute the strategy player's winnings. You may remove unnecessary printouts from your code (perhaps implement a verbose/quiet mode) to reduce the output."
   ]
  },
  {
   "cell_type": "markdown",
   "metadata": {},
   "source": [
    "8. Create a loop that runs 100 games of 50 rounds, as setup in previous question, and store the strategy player's chips at the end of the game (aka \"winnings\") in a list. Histogram the winnings. What is the average winnings per round? What is the standard deviation. What is the probabilty of net winning or lossing after 50 rounds?\n"
   ]
  },
  {
   "cell_type": "markdown",
   "metadata": {},
   "source": [
    "9. Repeat previous questions scanning the value of the threshold. Try at least 5 different threshold values. Can you find an optimal value?"
   ]
  },
  {
   "cell_type": "markdown",
   "metadata": {},
   "source": [
    "10. Create a new strategy based on web searches or your own ideas. Demonstrate that the new strategy will result in increased or decreased winnings. "
   ]
  }
 ],
 "metadata": {
  "kernelspec": {
   "display_name": "Python 3 (ipykernel)",
   "language": "python",
   "name": "python3"
  },
  "language_info": {
   "codemirror_mode": {
    "name": "ipython",
    "version": 3
   },
   "file_extension": ".py",
   "mimetype": "text/x-python",
   "name": "python",
   "nbconvert_exporter": "python",
   "pygments_lexer": "ipython3",
   "version": "3.12.3"
  }
 },
 "nbformat": 4,
 "nbformat_minor": 4
}
