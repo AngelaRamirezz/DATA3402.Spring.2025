{
 "cells": [
  {
   "cell_type": "markdown",
   "metadata": {},
   "source": [
    "# Lab 4- Object Oriented Programming\n",
    "\n",
    "For all of the exercises below, make sure you provide tests of your solutions.\n"
   ]
  },
  {
   "cell_type": "markdown",
   "metadata": {},
   "source": [
    "1. Write a \"counter\" class that can be incremented up to a specified maximum value, will print an error if an attempt is made to increment beyond that value, and allows reseting the counter. "
   ]
  },
  {
   "cell_type": "code",
   "execution_count": 13,
   "metadata": {},
   "outputs": [],
   "source": [
    "class Counter:\n",
    "    def __init__(self, max_value):\n",
    "        self.max_value = max_value\n",
    "\n",
    "    def increment(self):\n",
    "        if self.value < self.max_value:\n",
    "            self.value += 1\n",
    "        else:\n",
    "            print(\"Error: Counter has reached the maximum value.\")\n",
    "  \n",
    "    def reset(self):\n",
    "        self.value = 0\n",
    "\n",
    "    def get_value(self):\n",
    "        return self.value"
   ]
  },
  {
   "cell_type": "markdown",
   "metadata": {},
   "source": [
    "2. Copy and paste your solution to question 1 and modify it so that all the data held by the counter is private. Implement functions to check the value of the counter, check the maximum value, and check if the counter is at the maximum."
   ]
  },
  {
   "cell_type": "code",
   "execution_count": 14,
   "metadata": {},
   "outputs": [],
   "source": [
    "class Counter:\n",
    "    def _init_(self, max_value):\n",
    "        self.__max_value = max_value\n",
    "\n",
    "    def increment(self):\n",
    "        if self.value < self.max_value:\n",
    "            self.value += 1\n",
    "        else:\n",
    "            print(\"Error: Counter has reached the maximum value.\")\n",
    "  \n",
    "    def reset(self):\n",
    "        self.value = 0\n",
    "\n",
    "    def get_value(self):\n",
    "        return self.value\n",
    "    \n",
    "    def max_value(self):\n",
    "        return self.max_value\n",
    "    \n",
    "    def is_max(self):\n",
    "        if self.value==self.__max_value:\n",
    "            return True\n",
    "        else:\n",
    "            return False"
   ]
  },
  {
   "cell_type": "markdown",
   "metadata": {},
   "source": [
    "3. Implement a class to represent a rectangle, holding the length, width, and $x$ and $y$ coordinates of a corner of the object. Implement functions that compute the area and perimeter of the rectangle. Make all data members private and privide accessors to retrieve values of data members. "
   ]
  },
  {
   "cell_type": "code",
   "execution_count": 15,
   "metadata": {},
   "outputs": [],
   "source": [
    "class Rectangle:\n",
    "    def __init__(self, length, width, x, y):\n",
    "        self.__length = length\n",
    "        self.__width = width\n",
    "        self.__x = x\n",
    "        self.__y = y\n",
    "\n",
    "    def area(self):\n",
    "        return self.length * self.width\n",
    "    \n",
    "    def perimeter(self):\n",
    "        return 2 * (self.length + self.width)"
   ]
  },
  {
   "cell_type": "markdown",
   "metadata": {},
   "source": [
    "4. Implement a class to represent a circle, holding the radius and $x$ and $y$ coordinates of center of the object. Implement functions that compute the area and perimeter of the rectangle. Make all data members private and privide accessors to retrieve values of data members. "
   ]
  },
  {
   "cell_type": "code",
   "execution_count": 16,
   "metadata": {},
   "outputs": [],
   "source": [
    "class Circle:\n",
    "    def __init__(self, radius, x, y):\n",
    "        self.__radius = radius\n",
    "        self.__x = x\n",
    "        self.__y = y\n",
    "\n",
    "    def area(self):\n",
    "        return 3.14 * self.radius * self.radius\n",
    "  \n",
    "    def perimeter(self):\n",
    "        return 2 * 3.14 * self.radius"
   ]
  },
  {
   "cell_type": "markdown",
   "metadata": {},
   "source": [
    "5. Implement a common base class for the classes implemented in 3 and 4 above which implements all common methods as not implemented functions (virtual). Re-implement your regtangle and circule classes to inherit from the base class and overload the functions accordingly. "
   ]
  },
  {
   "cell_type": "code",
   "execution_count": 17,
   "metadata": {},
   "outputs": [],
   "source": [
    "class Shape:\n",
    "    def __init__(self, name):\n",
    "        self.__name = name\n",
    "\n",
    "    def area(self):\n",
    "        raise NotImplementedError\n",
    "    \n",
    "    def perimeter(self):\n",
    "        raise NotImplementedError\n",
    "\n",
    "\n",
    "class Rectangle(Shape):\n",
    "    def __init__(self, length, width, x, y):\n",
    "        super().__init__(\"Rectangle\")\n",
    "        self.__length = length\n",
    "        self.__width = width\n",
    "        self.__x = x\n",
    "        self.__y = y\n",
    "\n",
    "    def area(self): \n",
    "        return self.length * self.width\n",
    "    \n",
    "    def perimeter(self):\n",
    "        return 2 * (self.length + self.width)\n",
    "\n",
    "class Circle(Shape):\n",
    "    def __init__(self, radius, x, y):\n",
    "        super().__init__(\"Circle\")\n",
    "        self.__radius = radius\n",
    "        self.__x = x\n",
    "        self.__y = y\n",
    "\n",
    "    def area(self):\n",
    "        return 3.14 * self.radius * self.radius\n",
    "    \n",
    "    def perimeter(self):\n",
    "        return 2 * 3.14 * self.radius"
   ]
  },
  {
   "cell_type": "markdown",
   "metadata": {},
   "source": [
    "6. Implement a triangle class analogous to the rectangle and circle in question 5."
   ]
  },
  {
   "cell_type": "code",
   "execution_count": 18,
   "metadata": {},
   "outputs": [],
   "source": [
    "class Shape:\n",
    "    def __init__(self, name):\n",
    "        self.__name = name\n",
    "\n",
    "    def area(self):\n",
    "        raise NotImplementedError\n",
    "    \n",
    "    def perimeter(self):\n",
    "        raise NotImplementedError\n",
    "\n",
    "\n",
    "class Rectangle(Shape):\n",
    "    def __init__(self, length, width, x, y):\n",
    "        super().__init__(\"Rectangle\")\n",
    "        self.__length = length\n",
    "        self.__width = width\n",
    "        self.__x = x\n",
    "        self.__y = y\n",
    "\n",
    "    def area(self):\n",
    "        return self.length * self.width\n",
    "    \n",
    "    def perimeter(self):\n",
    "        return 2 * (self.length + self.width)\n",
    "\n",
    "class Circle(Shape):\n",
    "    def __init__(self, radius, x, y):\n",
    "        super().__init__(\"Circle\")\n",
    "        self.__radius = radius\n",
    "        self.__x = x\n",
    "        self.__y = y\n",
    "\n",
    "    def area(self):\n",
    "        return 3.14 * self.radius * self.radius\n",
    "    \n",
    "    def perimeter(self):\n",
    "        return 2 * 3.14 * self.radius\n",
    "\n",
    "class Triangle(Shape):\n",
    "    def __init__(self, base, height, x, y):\n",
    "        super().__init__(\"Triangle\")\n",
    "        self.__base = base\n",
    "        self.__height = height\n",
    "        self.__x = x\n",
    "        self.__y = y\n",
    "\n",
    "    def area(self):\n",
    "        return base * height / 2\n",
    "    \n",
    "    def perimeter(self):\n",
    "        return base + height + math.sqrt(base**2 + height**2)"
   ]
  },
  {
   "cell_type": "markdown",
   "metadata": {},
   "source": [
    "7. Add a function to the object classes, including the base, that returns a list of up to 16 pairs of  $x$ and $y$ points on the parameter of the object. "
   ]
  },
  {
   "cell_type": "code",
   "execution_count": 19,
   "metadata": {},
   "outputs": [],
   "source": [
    "class Shape:\n",
    "    def __init__(self, name):\n",
    "        self.__name = name\n",
    "\n",
    "    def area(self):\n",
    "        raise NotImplementedError\n",
    "    \n",
    "    def perimeter(self):\n",
    "        raise NotImplementedError\n",
    "\n",
    "    def get_points(self, pairs=16):\n",
    "        raise NotImplementedError\n",
    "\n",
    "class Rectangle(Shape):\n",
    "    def __init__(self, length, width, x, y):\n",
    "        super().__init__(\"Rectangle\")\n",
    "        self.__length = length\n",
    "        self.__width = width\n",
    "        self.__x = x\n",
    "        self.__y = y\n",
    "\n",
    "    def area(self):\n",
    "        return self.length * self.width\n",
    "    \n",
    "    def perimeter(self):\n",
    "        return 2 * (self.length + self.width)\n",
    "    \n",
    "    def get_points(self,pairs):\n",
    "        points=[]\n",
    "        total_point=len(self.x)\n",
    "        for i in range(total_points):\n",
    "            point.append((self.x[i], slef.y[i]))\n",
    "        return points\n",
    "    \n",
    "class Circle(Shape):\n",
    "    def __init__(self, radius, x, y):\n",
    "        super().__init__(\"Circle\")\n",
    "        self.__radius = radius\n",
    "        self.__x = x\n",
    "        self.__y = y\n",
    "\n",
    "    def area(self):\n",
    "        return 3.14 * self.radius * self.radius\n",
    "    \n",
    "    def perimeter(self):\n",
    "        return 2 * 3.14 * self.radius\n",
    "\n",
    "class Triangle(Shape):\n",
    "    def __init__(self, base, height, x, y):\n",
    "        super().__init__(\"Triangle\")\n",
    "        self.__base = base\n",
    "        self.__height = height\n",
    "        self.__x = x\n",
    "        self.__y = y\n",
    "\n",
    "    def area(self):\n",
    "        return base * height / 2\n",
    "    \n",
    "    def perimeter(self):\n",
    "        return base + height + math.sqrt(base**2 + height**2)"
   ]
  },
  {
   "cell_type": "markdown",
   "metadata": {},
   "source": [
    "8. Add a function to the object classes, including the base, that tests if a given set of $x$ and $y$ coordinates are inside of the object. You'll have to think through how to determine if a set of coordinates are inside an object for each object type."
   ]
  },
  {
   "cell_type": "code",
   "execution_count": null,
   "metadata": {},
   "outputs": [],
   "source": []
  },
  {
   "cell_type": "markdown",
   "metadata": {},
   "source": [
    "9. Add a function in the base class of the object classes that returns true/false testing that the object overlaps with another object."
   ]
  },
  {
   "cell_type": "code",
   "execution_count": null,
   "metadata": {},
   "outputs": [],
   "source": []
  },
  {
   "cell_type": "markdown",
   "metadata": {},
   "source": [
    "10. Copy the `Canvas` class from lecture to in a python file creating a `paint` module. Copy your classes from above into the module and implement paint functions. Implement a `CompoundShape` class. Create a simple drawing demonstrating that all of your classes are working."
   ]
  },
  {
   "cell_type": "code",
   "execution_count": 20,
   "metadata": {},
   "outputs": [],
   "source": [
    "class Canvas:\n",
    "    def __init__(self, width, height):\n",
    "        self.width = width\n",
    "        self.height = height\n",
    "        self.data = [[' '] * width for i in range(height)]\n",
    "\n",
    "    def set_pixel(self, row, col, char='*'):\n",
    "        self.data[row][col] = char\n",
    "\n",
    "    def get_pixel(self, row, col):\n",
    "        return self.data[row][col]\n",
    "    \n",
    "    def clear_canvas(self):\n",
    "        self.data = [[' '] * self.width for i in range(self.height)]\n",
    "    \n",
    "    def v_line(self, x, y, w, **kargs):\n",
    "        for i in range(x,x+w):\n",
    "            self.set_pixel(i,y, **kargs)\n",
    "\n",
    "    def h_line(self, x, y, h, **kargs):\n",
    "        for i in range(y,y+h):\n",
    "            self.set_pixel(x,i, **kargs)\n",
    "            \n",
    "    def line(self, x1, y1, x2, y2, **kargs):\n",
    "        slope = (y2-y1) / (x2-x1)\n",
    "        for y in range(y1,y2):\n",
    "            x= int(slope * y)\n",
    "            self.set_pixel(x,y, **kargs)\n",
    "            \n",
    "    def display(self):\n",
    "        print(\"\\n\".join([\"\".join(row) for row in self.data]))"
   ]
  },
  {
   "cell_type": "code",
   "execution_count": 22,
   "metadata": {},
   "outputs": [],
   "source": [
    "class Shape:\n",
    "    def __init__(self, name):\n",
    "        self.__name = name\n",
    "\n",
    "    def area(self):\n",
    "        raise NotImplementedError\n",
    "    \n",
    "    def perimeter(self):\n",
    "        raise NotImplementedError\n",
    "\n",
    "    def get_points(self, pairs=16):\n",
    "        raise NotImplementedError\n",
    "\n",
    "class Rectangle(Shape):\n",
    "    def __init__(self, length, width, x, y):\n",
    "        super().__init__(\"Rectangle\")\n",
    "        self.__length = length\n",
    "        self.__width = width\n",
    "        self.__x = x\n",
    "        self.__y = y\n",
    "\n",
    "    def area(self):\n",
    "        return self.length * self.width\n",
    "    \n",
    "    def perimeter(self):\n",
    "        return 2 * (self.length + self.width)\n",
    "    \n",
    "    def get_points(self,pairs):\n",
    "        points=[]\n",
    "        total_point=len(self.x)\n",
    "        for i in range(total_points):\n",
    "            point.append((self.x[i], slef.y[i]))\n",
    "        return points\n",
    "    \n",
    "class Circle(Shape):\n",
    "    def __init__(self, radius, x, y):\n",
    "        super().__init__(\"Circle\")\n",
    "        self.__radius = radius\n",
    "        self.__x = x\n",
    "        self.__y = y\n",
    "\n",
    "    def area(self):\n",
    "        return 3.14 * self.radius * self.radius\n",
    "    \n",
    "    def perimeter(self):\n",
    "        return 2 * 3.14 * self.radius\n",
    "\n",
    "class Triangle(Shape):\n",
    "    def __init__(self, base, height, x, y):\n",
    "        super().__init__(\"Triangle\")\n",
    "        self.__base = base\n",
    "        self.__height = height\n",
    "        self.__x = x\n",
    "        self.__y = y\n",
    "\n",
    "    def area(self):\n",
    "        return base * height / 2\n",
    "    \n",
    "    def perimeter(self):\n",
    "        return base + height + math.sqrt(base**2 + height**2)\n",
    "    \n",
    "class CompoundShape(Shape):\n",
    "    def __init__(self, shapes):\n",
    "        self.shapes=shapes"
   ]
  },
  {
   "cell_type": "markdown",
   "metadata": {},
   "source": [
    "11. Create a `RasterDrawing` class. Demonstrate that you can create a drawing made of several shapes, paint the drawing, modify the drawing, and paint it again. "
   ]
  },
  {
   "cell_type": "code",
   "execution_count": 5,
   "metadata": {},
   "outputs": [],
   "source": [
    "class RasterDrawing:\n",
    "    def __init__(self):\n",
    "        self.shapes=dict()\n",
    "        self.shape_names=list()\n",
    "        \n",
    "    def add_shape(self,shape):\n",
    "        if shape.name == \"\":\n",
    "            shape.name = self.assign_name()\n",
    "        \n",
    "        self.shapes[shape.name]=shape\n",
    "        self.shape_names.append(shape.name)\n",
    "\n",
    "    def update(self, canvas):\n",
    "        canvas.clear_canvas()\n",
    "        self.paint(canvas)\n",
    "        \n",
    "    def paint(self,canvas):\n",
    "        for shape_name in self.shape_names:\n",
    "            self.shapes[shape_name].paint(canvas)\n",
    "            \n",
    "    def assign_name(self):\n",
    "        name_base=\"shape\"\n",
    "        name = name_base+\"_0\"\n",
    "        \n",
    "        i=1\n",
    "        while name in self.shapes:\n",
    "            name = name_base+\"_\"+str(i)\n",
    "            \n",
    "        return name"
   ]
  },
  {
   "cell_type": "markdown",
   "metadata": {},
   "source": [
    "12. Implement the ability to load/save raster drawings and demonstate that your method works. One way to implement this ability:\n",
    "\n",
    "   * Overload `__repr__` functions of all objects to return strings of the python code that would construct the object.\n",
    "   \n",
    "   * In the save method of raster drawing class, store the representations into the file.\n",
    "   * Write a loader function that reads the file and uses `eval` to instantiate the object.\n",
    "\n",
    "For example:"
   ]
  },
  {
   "cell_type": "code",
   "execution_count": 1,
   "metadata": {},
   "outputs": [],
   "source": [
    "class foo:\n",
    "    def __init__(self,a,b=None):\n",
    "        self.a=a\n",
    "        self.b=b\n",
    "        \n",
    "    def __repr__(self):\n",
    "        return \"foo(\"+repr(self.a)+\",\"+repr(self.b)+\")\"\n",
    "    \n",
    "    def save(self,filename):\n",
    "        f=open(filename,\"w\")\n",
    "        f.write(self.__repr__())\n",
    "        f.close()\n",
    "        \n",
    "   \n",
    "    def foo_loader(filename):\n",
    "        f=open(filename,\"r\")\n",
    "        tmp=eval(f.read())\n",
    "        f.close()\n",
    "        return tmp\n"
   ]
  },
  {
   "cell_type": "code",
   "execution_count": 2,
   "metadata": {},
   "outputs": [
    {
     "name": "stdout",
     "output_type": "stream",
     "text": [
      "foo(1,'hello')\n"
     ]
    }
   ],
   "source": [
    "# Test\n",
    "print(repr(foo(1,\"hello\")))"
   ]
  },
  {
   "cell_type": "code",
   "execution_count": 3,
   "metadata": {},
   "outputs": [],
   "source": [
    "# Create an object and save it\n",
    "ff=foo(1,\"hello\")\n",
    "ff.save(\"Test.foo\")"
   ]
  },
  {
   "cell_type": "code",
   "execution_count": 4,
   "metadata": {},
   "outputs": [
    {
     "name": "stdout",
     "output_type": "stream",
     "text": [
      "foo(1,'hello')"
     ]
    }
   ],
   "source": [
    "# Check contents of the saved file\n",
    "!cat Test.foo"
   ]
  },
  {
   "cell_type": "code",
   "execution_count": 5,
   "metadata": {},
   "outputs": [
    {
     "data": {
      "text/plain": [
       "foo(1,'hello')"
      ]
     },
     "execution_count": 5,
     "metadata": {},
     "output_type": "execute_result"
    }
   ],
   "source": [
    "# Load the object\n",
    "ff_reloaded=foo_loader(\"Test.foo\")\n",
    "ff_reloaded"
   ]
  }
 ],
 "metadata": {
  "kernelspec": {
   "display_name": "Python 3 (ipykernel)",
   "language": "python",
   "name": "python3"
  },
  "language_info": {
   "codemirror_mode": {
    "name": "ipython",
    "version": 3
   },
   "file_extension": ".py",
   "mimetype": "text/x-python",
   "name": "python",
   "nbconvert_exporter": "python",
   "pygments_lexer": "ipython3",
   "version": "3.12.3"
  }
 },
 "nbformat": 4,
 "nbformat_minor": 2
}
